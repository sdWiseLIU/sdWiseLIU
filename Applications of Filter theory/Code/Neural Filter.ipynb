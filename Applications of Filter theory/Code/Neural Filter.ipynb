{
 "cells": [
  {
   "cell_type": "code",
   "execution_count": 1,
   "metadata": {},
   "outputs": [],
   "source": [
    "import numpy as np\n",
    "import tensorflow as tf\n",
    "from tensorflow.keras import layers\n",
    "import matplotlib.pyplot as plt"
   ]
  },
  {
   "cell_type": "code",
   "execution_count": 3,
   "metadata": {},
   "outputs": [],
   "source": [
    "a = 0.01; b =0.02; c = 1; mu = 2;\n",
    "N = 100\n",
    "M = 20\n",
    "x_data = np.zeros((M*(N + 1),1))\n",
    "y_data = np.zeros((M*(N + 1),1))"
   ]
  },
  {
   "cell_type": "code",
   "execution_count": 8,
   "metadata": {},
   "outputs": [],
   "source": [
    "for j in range(M):\n",
    "    x_data[j*(N + 1),0] = a + c*np.random.randn()\n",
    "    y_data[j*(N + 1),0] = (mu - np.exp(2*x_data[j*(N + 1),0])/2.0) + np.exp(x_data[j*(N + 1),0])*np.random.randn()\n",
    "    for i in range(N):\n",
    "        x_data[j*(N + 1) + (i + 1),0] = (a + b*x_data[j*(N + 1) + i,0]) + c*np.random.randn()\n",
    "        y_data[j*(N + 1) + (i + 1),0] = (mu - np.exp(2*x_data[j*(N + 1) + (i + 1),0])/2.0) + np.exp(x_data[j*(N + 1) + (i + 1),0])*np.random.randn()\n",
    "X_data = x_data.reshape([M, N + 1, 1])\n",
    "Y_data = y_data.reshape([M, N + 1, 1])"
   ]
  },
  {
   "cell_type": "code",
   "execution_count": 90,
   "metadata": {},
   "outputs": [],
   "source": [
    "model = tf.keras.models.Sequential([\n",
    "    layers.Dense(1000, 'tanh'),\n",
    "    layers.Dense(500, 'tanh'),\n",
    "    layers.Dense(200, 'tanh'),\n",
    "    layers.Dense(100, 'tanh'),\n",
    "    layers.Dense(50, 'tanh'),\n",
    "    layers.Dense(1)\n",
    "])"
   ]
  },
  {
   "cell_type": "code",
   "execution_count": 91,
   "metadata": {},
   "outputs": [],
   "source": [
    "model.compile(optimizer=tf.keras.optimizers.Adam(0.1),\n",
    "             loss=tf.keras.losses.mean_squared_error,\n",
    "             )"
   ]
  },
  {
   "cell_type": "code",
   "execution_count": 96,
   "metadata": {},
   "outputs": [
    {
     "name": "stdout",
     "output_type": "stream",
     "text": [
      "Train on 2020 samples\n",
      "Epoch 1/40\n",
      "2020/2020 [==============================] - 0s 60us/sample - loss: 0.4867\n",
      "Epoch 2/40\n",
      "2020/2020 [==============================] - 0s 57us/sample - loss: 0.4900\n",
      "Epoch 3/40\n",
      "2020/2020 [==============================] - 0s 55us/sample - loss: 0.5931\n",
      "Epoch 4/40\n",
      "2020/2020 [==============================] - 0s 55us/sample - loss: 0.5390\n",
      "Epoch 5/40\n",
      "2020/2020 [==============================] - 0s 56us/sample - loss: 0.5832\n",
      "Epoch 6/40\n",
      "2020/2020 [==============================] - 0s 59us/sample - loss: 0.6368\n",
      "Epoch 7/40\n",
      "2020/2020 [==============================] - 0s 55us/sample - loss: 0.6028\n",
      "Epoch 8/40\n",
      "2020/2020 [==============================] - 0s 54us/sample - loss: 0.4852\n",
      "Epoch 9/40\n",
      "2020/2020 [==============================] - 0s 55us/sample - loss: 0.5348\n",
      "Epoch 10/40\n",
      "2020/2020 [==============================] - 0s 54us/sample - loss: 0.5710\n",
      "Epoch 11/40\n",
      "2020/2020 [==============================] - 0s 68us/sample - loss: 0.6031\n",
      "Epoch 12/40\n",
      "2020/2020 [==============================] - 0s 65us/sample - loss: 0.5912\n",
      "Epoch 13/40\n",
      "2020/2020 [==============================] - 0s 59us/sample - loss: 0.6505\n",
      "Epoch 14/40\n",
      "2020/2020 [==============================] - 0s 59us/sample - loss: 0.6105\n",
      "Epoch 15/40\n",
      "2020/2020 [==============================] - 0s 56us/sample - loss: 0.6373\n",
      "Epoch 16/40\n",
      "2020/2020 [==============================] - 0s 56us/sample - loss: 0.6952\n",
      "Epoch 17/40\n",
      "2020/2020 [==============================] - 0s 61us/sample - loss: 0.9001\n",
      "Epoch 18/40\n",
      "2020/2020 [==============================] - 0s 63us/sample - loss: 0.6777\n",
      "Epoch 19/40\n",
      "2020/2020 [==============================] - 0s 53us/sample - loss: 0.6012\n",
      "Epoch 20/40\n",
      "2020/2020 [==============================] - 0s 58us/sample - loss: 0.5866\n",
      "Epoch 21/40\n",
      "2020/2020 [==============================] - 0s 67us/sample - loss: 0.5853\n",
      "Epoch 22/40\n",
      "2020/2020 [==============================] - 0s 68us/sample - loss: 0.7152\n",
      "Epoch 23/40\n",
      "2020/2020 [==============================] - 0s 57us/sample - loss: 0.7943\n",
      "Epoch 24/40\n",
      "2020/2020 [==============================] - 0s 58us/sample - loss: 0.6685\n",
      "Epoch 25/40\n",
      "2020/2020 [==============================] - 0s 56us/sample - loss: 0.7127\n",
      "Epoch 26/40\n",
      "2020/2020 [==============================] - 0s 61us/sample - loss: 0.6289\n",
      "Epoch 27/40\n",
      "2020/2020 [==============================] - 0s 68us/sample - loss: 0.6485\n",
      "Epoch 28/40\n",
      "2020/2020 [==============================] - 0s 60us/sample - loss: 0.5778\n",
      "Epoch 29/40\n",
      "2020/2020 [==============================] - 0s 60us/sample - loss: 0.6433\n",
      "Epoch 30/40\n",
      "2020/2020 [==============================] - 0s 59us/sample - loss: 0.6267\n",
      "Epoch 31/40\n",
      "2020/2020 [==============================] - 0s 63us/sample - loss: 0.5881\n",
      "Epoch 32/40\n",
      "2020/2020 [==============================] - 0s 66us/sample - loss: 0.6081\n",
      "Epoch 33/40\n",
      "2020/2020 [==============================] - 0s 58us/sample - loss: 0.5724\n",
      "Epoch 34/40\n",
      "2020/2020 [==============================] - 0s 60us/sample - loss: 0.6932\n",
      "Epoch 35/40\n",
      "2020/2020 [==============================] - 0s 58us/sample - loss: 0.6466\n",
      "Epoch 36/40\n",
      "2020/2020 [==============================] - 0s 64us/sample - loss: 0.7054\n",
      "Epoch 37/40\n",
      "2020/2020 [==============================] - 0s 63us/sample - loss: 0.5685\n",
      "Epoch 38/40\n",
      "2020/2020 [==============================] - 0s 60us/sample - loss: 0.5723\n",
      "Epoch 39/40\n",
      "2020/2020 [==============================] - 0s 56us/sample - loss: 0.6805\n",
      "Epoch 40/40\n",
      "2020/2020 [==============================] - 0s 58us/sample - loss: 0.6257\n"
     ]
    },
    {
     "data": {
      "text/plain": [
       "<tensorflow.python.keras.callbacks.History at 0x13c4d25d0>"
      ]
     },
     "execution_count": 96,
     "metadata": {},
     "output_type": "execute_result"
    }
   ],
   "source": [
    "model.fit(y_data, x_data, epochs=40, batch_size=101)"
   ]
  },
  {
   "cell_type": "code",
   "execution_count": 20,
   "metadata": {},
   "outputs": [
    {
     "name": "stdout",
     "output_type": "stream",
     "text": [
      "Model: \"sequential\"\n",
      "_________________________________________________________________\n",
      "Layer (type)                 Output Shape              Param #   \n",
      "=================================================================\n",
      "dense (Dense)                multiple                  400       \n",
      "_________________________________________________________________\n",
      "dense_1 (Dense)              multiple                  20100     \n",
      "_________________________________________________________________\n",
      "dense_2 (Dense)              multiple                  5050      \n",
      "_________________________________________________________________\n",
      "dense_3 (Dense)              multiple                  510       \n",
      "_________________________________________________________________\n",
      "dense_4 (Dense)              multiple                  11        \n",
      "=================================================================\n",
      "Total params: 26,071\n",
      "Trainable params: 26,071\n",
      "Non-trainable params: 0\n",
      "_________________________________________________________________\n"
     ]
    }
   ],
   "source": [
    "model.summary()"
   ]
  },
  {
   "cell_type": "code",
   "execution_count": 21,
   "metadata": {},
   "outputs": [
    {
     "data": {
      "text/plain": [
       "[<matplotlib.lines.Line2D at 0x1444161d0>]"
      ]
     },
     "execution_count": 21,
     "metadata": {},
     "output_type": "execute_result"
    },
    {
     "data": {
      "image/png": "[encoded data removed]",
      "text/plain": [
       "<Figure size 432x288 with 1 Axes>"
      ]
     },
     "metadata": {
      "needs_background": "light"
     },
     "output_type": "display_data"
    }
   ],
   "source": [
    "time = np.linspace(0, N, N + 1)\n",
    "plt.plot(time, x_data)"
   ]
  },
  {
   "cell_type": "code",
   "execution_count": 44,
   "metadata": {},
   "outputs": [],
   "source": [
    "x_test = np.zeros((N + 1,1))\n",
    "y_test = np.zeros((N + 1,1))\n",
    "x_test[0,0] = a + c*np.random.randn()\n",
    "y_test[0,0] = (mu - np.exp(2*x_test[0,0])/2.0) + np.exp(x_test[0,0])*np.random.randn()\n",
    "for i in range(N):\n",
    "    x_test[i + 1,0] = (a + b*x_test[i,0]) + c*np.random.randn()\n",
    "    y_test[i + 1,0] = (mu - np.exp(2*x_test[i + 1,0])/2.0) + np.exp(x_test[i + 1,0])*np.random.randn()"
   ]
  },
  {
   "cell_type": "code",
   "execution_count": 101,
   "metadata": {},
   "outputs": [],
   "source": [
    "y_predict = model.predict(y_test)"
   ]
  },
  {
   "cell_type": "code",
   "execution_count": 102,
   "metadata": {},
   "outputs": [
    {
     "data": {
      "image/png": "[encoded data removed]",
      "text/plain": [
       "<Figure size 432x288 with 1 Axes>"
      ]
     },
     "metadata": {
      "needs_background": "light"
     },
     "output_type": "display_data"
    }
   ],
   "source": [
    "time = np.linspace(0, N, N + 1)\n",
    "plt.plot(time, np.exp(y_predict), label = \"Prediction\")\n",
    "plt.plot(time, np.exp(x_test), label = \"True\")\n",
    "plt.legend()\n",
    "plt.show()"
   ]
  },
  {
   "cell_type": "code",
   "execution_count": 34,
   "metadata": {},
   "outputs": [],
   "source": [
    "model_2 = tf.keras.models.Sequential([\n",
    "    layers.SimpleRNN(101, return_sequences=True),\n",
    "    layers.SimpleRNN(101, return_sequences=True),\n",
    "    layers.SimpleRNN(101, return_sequences=True),\n",
    "    layers.SimpleRNN(101, return_sequences=True),\n",
    "    layers.Dense(1)\n",
    "])"
   ]
  },
  {
   "cell_type": "code",
   "execution_count": 35,
   "metadata": {},
   "outputs": [],
   "source": [
    "model_2.compile(optimizer=tf.keras.optimizers.Adam(0.001),\n",
    "             loss=tf.keras.losses.mean_squared_error,\n",
    "             )"
   ]
  },
  {
   "cell_type": "code",
   "execution_count": 36,
   "metadata": {},
   "outputs": [
    {
     "name": "stdout",
     "output_type": "stream",
     "text": [
      "Train on 20 samples\n",
      "Epoch 1/100\n",
      "20/20 [==============================] - 2s 105ms/sample - loss: 1.8607\n",
      "Epoch 2/100\n",
      "20/20 [==============================] - 0s 5ms/sample - loss: 1.0596\n",
      "Epoch 3/100\n",
      "20/20 [==============================] - 0s 5ms/sample - loss: 0.9960\n",
      "Epoch 4/100\n",
      "20/20 [==============================] - 0s 5ms/sample - loss: 0.8839\n",
      "Epoch 5/100\n",
      "20/20 [==============================] - 0s 5ms/sample - loss: 0.7052\n",
      "Epoch 6/100\n",
      "20/20 [==============================] - 0s 5ms/sample - loss: 0.6018\n",
      "Epoch 7/100\n",
      "20/20 [==============================] - 0s 5ms/sample - loss: 0.5727\n",
      "Epoch 8/100\n",
      "20/20 [==============================] - 0s 5ms/sample - loss: 0.5915\n",
      "Epoch 9/100\n",
      "20/20 [==============================] - 0s 5ms/sample - loss: 0.6137\n",
      "Epoch 10/100\n",
      "20/20 [==============================] - 0s 6ms/sample - loss: 0.5904\n",
      "Epoch 11/100\n",
      "20/20 [==============================] - 0s 6ms/sample - loss: 0.5519\n",
      "Epoch 12/100\n",
      "20/20 [==============================] - 0s 6ms/sample - loss: 0.5298\n",
      "Epoch 13/100\n",
      "20/20 [==============================] - 0s 6ms/sample - loss: 0.5137\n",
      "Epoch 14/100\n",
      "20/20 [==============================] - 0s 5ms/sample - loss: 0.4963\n",
      "Epoch 15/100\n",
      "20/20 [==============================] - 0s 5ms/sample - loss: 0.4880\n",
      "Epoch 16/100\n",
      "20/20 [==============================] - 0s 5ms/sample - loss: 0.4877\n",
      "Epoch 17/100\n",
      "20/20 [==============================] - 0s 5ms/sample - loss: 0.4846\n",
      "Epoch 18/100\n",
      "20/20 [==============================] - 0s 5ms/sample - loss: 0.4800\n",
      "Epoch 19/100\n",
      "20/20 [==============================] - 0s 5ms/sample - loss: 0.4781\n",
      "Epoch 20/100\n",
      "20/20 [==============================] - 0s 6ms/sample - loss: 0.4725\n",
      "Epoch 21/100\n",
      "20/20 [==============================] - 0s 6ms/sample - loss: 0.4592\n",
      "Epoch 22/100\n",
      "20/20 [==============================] - 0s 5ms/sample - loss: 0.4458\n",
      "Epoch 23/100\n",
      "20/20 [==============================] - 0s 5ms/sample - loss: 0.4384\n",
      "Epoch 24/100\n",
      "20/20 [==============================] - 0s 5ms/sample - loss: 0.4322\n",
      "Epoch 25/100\n",
      "20/20 [==============================] - 0s 5ms/sample - loss: 0.4238\n",
      "Epoch 26/100\n",
      "20/20 [==============================] - 0s 5ms/sample - loss: 0.4172\n",
      "Epoch 27/100\n",
      "20/20 [==============================] - 0s 5ms/sample - loss: 0.4130\n",
      "Epoch 28/100\n",
      "20/20 [==============================] - 0s 5ms/sample - loss: 0.4081\n",
      "Epoch 29/100\n",
      "20/20 [==============================] - 0s 6ms/sample - loss: 0.4032\n",
      "Epoch 30/100\n",
      "20/20 [==============================] - 0s 6ms/sample - loss: 0.3999\n",
      "Epoch 31/100\n",
      "20/20 [==============================] - 0s 5ms/sample - loss: 0.3959\n",
      "Epoch 32/100\n",
      "20/20 [==============================] - 0s 5ms/sample - loss: 0.3899\n",
      "Epoch 33/100\n",
      "20/20 [==============================] - 0s 5ms/sample - loss: 0.3841\n",
      "Epoch 34/100\n",
      "20/20 [==============================] - 0s 5ms/sample - loss: 0.3797\n",
      "Epoch 35/100\n",
      "20/20 [==============================] - 0s 5ms/sample - loss: 0.3751\n",
      "Epoch 36/100\n",
      "20/20 [==============================] - 0s 6ms/sample - loss: 0.3701\n",
      "Epoch 37/100\n",
      "20/20 [==============================] - 0s 6ms/sample - loss: 0.3655\n",
      "Epoch 38/100\n",
      "20/20 [==============================] - 0s 6ms/sample - loss: 0.3611\n",
      "Epoch 39/100\n",
      "20/20 [==============================] - 0s 5ms/sample - loss: 0.3571\n",
      "Epoch 40/100\n",
      "20/20 [==============================] - 0s 6ms/sample - loss: 0.3535\n",
      "Epoch 41/100\n",
      "20/20 [==============================] - 0s 6ms/sample - loss: 0.3497\n",
      "Epoch 42/100\n",
      "20/20 [==============================] - 0s 5ms/sample - loss: 0.3457\n",
      "Epoch 43/100\n",
      "20/20 [==============================] - 0s 6ms/sample - loss: 0.3417\n",
      "Epoch 44/100\n",
      "20/20 [==============================] - 0s 6ms/sample - loss: 0.3375\n",
      "Epoch 45/100\n",
      "20/20 [==============================] - 0s 6ms/sample - loss: 0.3334\n",
      "Epoch 46/100\n",
      "20/20 [==============================] - 0s 5ms/sample - loss: 0.3296\n",
      "Epoch 47/100\n",
      "20/20 [==============================] - 0s 6ms/sample - loss: 0.3254\n",
      "Epoch 48/100\n",
      "20/20 [==============================] - 0s 6ms/sample - loss: 0.3212\n",
      "Epoch 49/100\n",
      "20/20 [==============================] - 0s 5ms/sample - loss: 0.3177\n",
      "Epoch 50/100\n",
      "20/20 [==============================] - 0s 6ms/sample - loss: 0.3141\n",
      "Epoch 51/100\n",
      "20/20 [==============================] - 0s 6ms/sample - loss: 0.3102\n",
      "Epoch 52/100\n",
      "20/20 [==============================] - 0s 6ms/sample - loss: 0.3065\n",
      "Epoch 53/100\n",
      "20/20 [==============================] - 0s 6ms/sample - loss: 0.3027\n",
      "Epoch 54/100\n",
      "20/20 [==============================] - 0s 6ms/sample - loss: 0.2990\n",
      "Epoch 55/100\n",
      "20/20 [==============================] - 0s 5ms/sample - loss: 0.2953\n",
      "Epoch 56/100\n",
      "20/20 [==============================] - 0s 5ms/sample - loss: 0.2914\n",
      "Epoch 57/100\n",
      "20/20 [==============================] - 0s 5ms/sample - loss: 0.2876\n",
      "Epoch 58/100\n",
      "20/20 [==============================] - 0s 5ms/sample - loss: 0.2839\n",
      "Epoch 59/100\n",
      "20/20 [==============================] - 0s 5ms/sample - loss: 0.2803\n",
      "Epoch 60/100\n",
      "20/20 [==============================] - 0s 5ms/sample - loss: 0.2767\n",
      "Epoch 61/100\n",
      "20/20 [==============================] - 0s 5ms/sample - loss: 0.2730\n",
      "Epoch 62/100\n",
      "20/20 [==============================] - 0s 6ms/sample - loss: 0.2694\n",
      "Epoch 63/100\n",
      "20/20 [==============================] - 0s 6ms/sample - loss: 0.2656\n",
      "Epoch 64/100\n",
      "20/20 [==============================] - 0s 6ms/sample - loss: 0.2619\n",
      "Epoch 65/100\n",
      "20/20 [==============================] - 0s 6ms/sample - loss: 0.2583\n",
      "Epoch 66/100\n",
      "20/20 [==============================] - 0s 5ms/sample - loss: 0.2546\n",
      "Epoch 67/100\n",
      "20/20 [==============================] - 0s 5ms/sample - loss: 0.2510\n",
      "Epoch 68/100\n",
      "20/20 [==============================] - 0s 5ms/sample - loss: 0.2473\n",
      "Epoch 69/100\n",
      "20/20 [==============================] - 0s 5ms/sample - loss: 0.2436\n",
      "Epoch 70/100\n",
      "20/20 [==============================] - 0s 6ms/sample - loss: 0.2400\n",
      "Epoch 71/100\n",
      "20/20 [==============================] - 0s 5ms/sample - loss: 0.2364\n",
      "Epoch 72/100\n",
      "20/20 [==============================] - 0s 6ms/sample - loss: 0.2327\n",
      "Epoch 73/100\n",
      "20/20 [==============================] - 0s 5ms/sample - loss: 0.2290\n",
      "Epoch 74/100\n",
      "20/20 [==============================] - 0s 6ms/sample - loss: 0.2254\n",
      "Epoch 75/100\n",
      "20/20 [==============================] - 0s 6ms/sample - loss: 0.2217\n",
      "Epoch 76/100\n",
      "20/20 [==============================] - 0s 6ms/sample - loss: 0.2181\n",
      "Epoch 77/100\n",
      "20/20 [==============================] - 0s 6ms/sample - loss: 0.2145\n",
      "Epoch 78/100\n",
      "20/20 [==============================] - 0s 5ms/sample - loss: 0.2109\n",
      "Epoch 79/100\n",
      "20/20 [==============================] - 0s 5ms/sample - loss: 0.2073\n",
      "Epoch 80/100\n",
      "20/20 [==============================] - 0s 6ms/sample - loss: 0.2037\n",
      "Epoch 81/100\n",
      "20/20 [==============================] - 0s 5ms/sample - loss: 0.2001\n",
      "Epoch 82/100\n",
      "20/20 [==============================] - 0s 5ms/sample - loss: 0.1965\n",
      "Epoch 83/100\n",
      "20/20 [==============================] - 0s 6ms/sample - loss: 0.1930\n",
      "Epoch 84/100\n",
      "20/20 [==============================] - 0s 6ms/sample - loss: 0.1894\n",
      "Epoch 85/100\n",
      "20/20 [==============================] - 0s 6ms/sample - loss: 0.1859\n",
      "Epoch 86/100\n",
      "20/20 [==============================] - 0s 6ms/sample - loss: 0.1824\n",
      "Epoch 87/100\n",
      "20/20 [==============================] - 0s 6ms/sample - loss: 0.1788\n",
      "Epoch 88/100\n",
      "20/20 [==============================] - 0s 5ms/sample - loss: 0.1753\n",
      "Epoch 89/100\n",
      "20/20 [==============================] - 0s 5ms/sample - loss: 0.1719\n",
      "Epoch 90/100\n",
      "20/20 [==============================] - 0s 6ms/sample - loss: 0.1684\n",
      "Epoch 91/100\n",
      "20/20 [==============================] - 0s 6ms/sample - loss: 0.1650\n",
      "Epoch 92/100\n",
      "20/20 [==============================] - 0s 6ms/sample - loss: 0.1616\n",
      "Epoch 93/100\n",
      "20/20 [==============================] - 0s 5ms/sample - loss: 0.1582\n",
      "Epoch 94/100\n",
      "20/20 [==============================] - 0s 5ms/sample - loss: 0.1549\n",
      "Epoch 95/100\n",
      "20/20 [==============================] - 0s 5ms/sample - loss: 0.1515\n",
      "Epoch 96/100\n",
      "20/20 [==============================] - 0s 5ms/sample - loss: 0.1482\n",
      "Epoch 97/100\n",
      "20/20 [==============================] - 0s 5ms/sample - loss: 0.1449\n",
      "Epoch 98/100\n",
      "20/20 [==============================] - 0s 5ms/sample - loss: 0.1417\n",
      "Epoch 99/100\n",
      "20/20 [==============================] - 0s 6ms/sample - loss: 0.1385\n"
     ]
    },
    {
     "name": "stdout",
     "output_type": "stream",
     "text": [
      "Epoch 100/100\n",
      "20/20 [==============================] - 0s 5ms/sample - loss: 0.1353\n"
     ]
    },
    {
     "data": {
      "text/plain": [
       "<tensorflow.python.keras.callbacks.History at 0x1422762d0>"
      ]
     },
     "execution_count": 36,
     "metadata": {},
     "output_type": "execute_result"
    }
   ],
   "source": [
    "model_2.fit(Y_data, X_data, epochs=100, batch_size=101)"
   ]
  },
  {
   "cell_type": "code",
   "execution_count": 45,
   "metadata": {},
   "outputs": [
    {
     "data": {
      "image/png": "[encoded data removed]",
      "text/plain": [
       "<Figure size 432x288 with 1 Axes>"
      ]
     },
     "metadata": {
      "needs_background": "light"
     },
     "output_type": "display_data"
    }
   ],
   "source": [
    "y_predict = model_2.predict(y_test.reshape([1, N + 1, 1]))\n",
    "y_predict = y_predict.reshape([N + 1, 1])\n",
    "time = np.linspace(0, N, N + 1)\n",
    "plt.plot(time, np.exp(y_predict), label = \"Prediction\")\n",
    "plt.plot(time, np.exp(x_test), label = \"True\")\n",
    "plt.legend()\n",
    "plt.show()"
   ]
  },
  {
   "cell_type": "code",
   "execution_count": 1,
   "metadata": {},
   "outputs": [],
   "source": [
    "import pandas as pd"
   ]
  },
  {
   "cell_type": "code",
   "execution_count": null,
   "metadata": {},
   "outputs": [],
   "source": [
    "out = pd.DataFrame({'S': y_predict})"
   ]
  }
 ],
 "metadata": {
  "kernelspec": {
   "display_name": "Python 3",
   "language": "python",
   "name": "python3"
  },
  "language_info": {
   "codemirror_mode": {
    "name": "ipython",
    "version": 2
   },
   "file_extension": ".py",
   "mimetype": "text/x-python",
   "name": "python",
   "nbconvert_exporter": "python",
   "pygments_lexer": "ipython2",
   "version": "2.7.10"
  }
 },
 "nbformat": 4,
 "nbformat_minor": 2
}
